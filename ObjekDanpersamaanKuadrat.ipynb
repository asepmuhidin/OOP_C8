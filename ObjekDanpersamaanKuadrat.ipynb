{
  "nbformat": 4,
  "nbformat_minor": 0,
  "metadata": {
    "colab": {
      "provenance": [],
      "authorship_tag": "ABX9TyOmg4jUNbSqpTst+6i/hVZV",
      "include_colab_link": true
    },
    "kernelspec": {
      "name": "python3",
      "display_name": "Python 3"
    },
    "language_info": {
      "name": "python"
    }
  },
  "cells": [
    {
      "cell_type": "markdown",
      "metadata": {
        "id": "view-in-github",
        "colab_type": "text"
      },
      "source": [
        "<a href=\"https://colab.research.google.com/github/asepmuhidin/OOP_C8/blob/main/ObjekDanpersamaanKuadrat.ipynb\" target=\"_parent\"><img src=\"https://colab.research.google.com/assets/colab-badge.svg\" alt=\"Open In Colab\"/></a>"
      ]
    },
    {
      "cell_type": "code",
      "execution_count": 17,
      "metadata": {
        "id": "Kc4kqXZqm9gn"
      },
      "outputs": [],
      "source": [
        "\n",
        "class Mahasiswa:\n",
        "  def __init__(self,nim,nama,kelas,nilai):\n",
        "    self.nim=nim\n",
        "    self.nama=nama\n",
        "    self.kelas=kelas\n",
        "    self.nilai=nilai\n",
        "    print(\"Method konstruktor dijalankan\")\n",
        "\n",
        "  def berjalan(self):\n",
        "    print(f\"Nama {self.nama} sedang berjalan\")\n",
        "\n",
        "  def ceklulus(self):\n",
        "    keterangan = \"\"\n",
        "    if self.nilai > 60 :\n",
        "      keterangan = \"Lulus\"\n",
        "    else:\n",
        "      keterangan =\"Tidak Lulus\"\n",
        "\n",
        "  def nilaihuruf(self):\n",
        "    keterangan=\"\"\n",
        "    if self.nilai > 85 :\n",
        "      keterangan = \"A\"\n",
        "    elif self.nilai > 75 :\n",
        "      keterangan = \"B\"\n",
        "    elif self.nilai > 65 :\n",
        "      keterangan = \"C\"\n",
        "    elif self.nilai > 55 :\n",
        "      keterangan = \"D\"\n",
        "    else :\n",
        "      keterangan = \"E\"\n",
        "\n",
        "    return keterangan\n",
        "\n",
        ""
      ]
    },
    {
      "cell_type": "code",
      "source": [
        "mhs1=Mahasiswa(\"001\",\"Alif\",\"C8\",70)\n"
      ],
      "metadata": {
        "colab": {
          "base_uri": "https://localhost:8080/"
        },
        "id": "zZ0JYGHFolbG",
        "outputId": "9a3792b0-8529-4111-9684-6a060289321d"
      },
      "execution_count": 18,
      "outputs": [
        {
          "output_type": "stream",
          "name": "stdout",
          "text": [
            "Method konstruktor dijalankan\n"
          ]
        }
      ]
    },
    {
      "cell_type": "code",
      "source": [
        "mhs1.berjalan()\n",
        "mhs1.ceklulus()\n",
        "nilai_mhs1=mhs1.nilaihuruf()"
      ],
      "metadata": {
        "colab": {
          "base_uri": "https://localhost:8080/"
        },
        "id": "zMTYq29LpC89",
        "outputId": "6b54ba37-ea3b-429e-9790-65c1054784af"
      },
      "execution_count": 20,
      "outputs": [
        {
          "output_type": "stream",
          "name": "stdout",
          "text": [
            "Nama Alif sedang berjalan\n"
          ]
        }
      ]
    },
    {
      "cell_type": "code",
      "source": [
        "nilai_mhs1"
      ],
      "metadata": {
        "colab": {
          "base_uri": "https://localhost:8080/",
          "height": 35
        },
        "id": "65YIB0pZw3u-",
        "outputId": "bec545e2-a67b-4653-b16f-695c44201eb2"
      },
      "execution_count": 21,
      "outputs": [
        {
          "output_type": "execute_result",
          "data": {
            "text/plain": [
              "'C'"
            ],
            "application/vnd.google.colaboratory.intrinsic+json": {
              "type": "string"
            }
          },
          "metadata": {},
          "execution_count": 21
        }
      ]
    },
    {
      "cell_type": "code",
      "source": [
        "import math\n",
        "class Perkuadrat:\n",
        "  def __init__(self, a, b, c):\n",
        "    self.a = a\n",
        "    self.b = b\n",
        "    self.c = c\n",
        "\n",
        "  def det(self):\n",
        "    return self.b**2-4*self.a*self.c\n",
        "\n",
        "  def x1(self):\n",
        "    return (-self.b + math.sqrt(self.det())) / (2*self.a)\n",
        "\n",
        "  def x2(self):\n",
        "    return (-self.b - math.sqrt(self.det())) / (2*self.a)\n"
      ],
      "metadata": {
        "id": "_k9ifQF-yFp8"
      },
      "execution_count": 23,
      "outputs": []
    },
    {
      "cell_type": "code",
      "source": [
        "soal1 = Perkuadrat(1, -2, -3)\n",
        "print(f\"nilai determinan = {soal1.det()}\")"
      ],
      "metadata": {
        "colab": {
          "base_uri": "https://localhost:8080/"
        },
        "id": "DR_QxUKmz-A-",
        "outputId": "04ec0537-d94e-486a-e1bf-96522f7dbb6e"
      },
      "execution_count": 24,
      "outputs": [
        {
          "output_type": "stream",
          "name": "stdout",
          "text": [
            "nilai determinan = 16\n"
          ]
        }
      ]
    },
    {
      "cell_type": "code",
      "source": [
        "print(f\"x1 = {soal1.x1()}\")\n",
        "print(f\"x2 = {soal1.x2()}\")"
      ],
      "metadata": {
        "colab": {
          "base_uri": "https://localhost:8080/"
        },
        "id": "fcD9q5lI0fyK",
        "outputId": "3722935b-a386-4163-da23-ecf3f113329b"
      },
      "execution_count": 25,
      "outputs": [
        {
          "output_type": "stream",
          "name": "stdout",
          "text": [
            "x1 = 3.0\n",
            "x2 = -1.0\n"
          ]
        }
      ]
    }
  ]
}