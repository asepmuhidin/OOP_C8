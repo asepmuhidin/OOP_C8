{
  "nbformat": 4,
  "nbformat_minor": 0,
  "metadata": {
    "colab": {
      "provenance": [],
      "authorship_tag": "ABX9TyNB75SE6GpIxKNHgLbFi89s",
      "include_colab_link": true
    },
    "kernelspec": {
      "name": "python3",
      "display_name": "Python 3"
    },
    "language_info": {
      "name": "python"
    }
  },
  "cells": [
    {
      "cell_type": "markdown",
      "metadata": {
        "id": "view-in-github",
        "colab_type": "text"
      },
      "source": [
        "<a href=\"https://colab.research.google.com/github/asepmuhidin/OOP_C8/blob/main/OOP_basic.ipynb\" target=\"_parent\"><img src=\"https://colab.research.google.com/assets/colab-badge.svg\" alt=\"Open In Colab\"/></a>"
      ]
    },
    {
      "cell_type": "code",
      "execution_count": 21,
      "metadata": {
        "id": "uxYllVw5rwEY"
      },
      "outputs": [],
      "source": [
        "class Mahasiswa:\n",
        "    def __init__(self, nama, nim, jurusan, absensi,tugas, uts,uas):\n",
        "        self.nama = nama\n",
        "        self.nim = nim\n",
        "        self.jurusan = jurusan\n",
        "        self.absensi = absensi\n",
        "        self.tugas = tugas\n",
        "        self.uts = uts\n",
        "        self.uas = uas\n",
        "\n",
        "    def hello(self):\n",
        "        print(f\"Hello {self.nama}\")\n",
        "\n",
        "    def nilaiAkhir(self):\n",
        "        return (self.absensi*0.3)+(self.tugas*0.1)+(self.uts*0.3)+(self.uas*0.3)\n",
        "\n",
        "    def nilaiHuruf(self):\n",
        "        na=self.nilaiAkhir()\n",
        "        if(na>85):\n",
        "          nh=\"A\"\n",
        "        elif(na>75):\n",
        "          nh=\"B\"\n",
        "        elif(na>65):\n",
        "          nh= \"C\"\n",
        "        elif (na>45):\n",
        "          nh= \"D\"\n",
        "        else:\n",
        "          nh= \"E\"\n",
        "\n",
        "        return nh\n",
        "\n",
        "\n"
      ]
    },
    {
      "cell_type": "code",
      "source": [
        "mhs1=Mahasiswa(\"Alif Restu\", \"12345\", \"Teknik Informatika\",8,100,80,70)"
      ],
      "metadata": {
        "id": "P8bLLkd6sUkw"
      },
      "execution_count": 22,
      "outputs": []
    },
    {
      "cell_type": "code",
      "source": [
        "#Akses atribut objek adalah namaobjek.nama_atrr\n",
        "print(f\"Hallo {mhs1.nama}, nim anda {mhs1.nim} jurusan {mhs1.jurusan}\")"
      ],
      "metadata": {
        "colab": {
          "base_uri": "https://localhost:8080/"
        },
        "id": "OQU89FVEshl6",
        "outputId": "6fa2e5b5-8daf-4e73-d99c-0f36624dcd5b"
      },
      "execution_count": 19,
      "outputs": [
        {
          "output_type": "stream",
          "name": "stdout",
          "text": [
            "Hallo Alif Restu, nim anda 12345 jurusan Teknik Informatika\n"
          ]
        }
      ]
    },
    {
      "cell_type": "code",
      "source": [
        "#Akses method objek adalah namaobjek.nama_method()\n",
        "mhs1.hello()"
      ],
      "metadata": {
        "colab": {
          "base_uri": "https://localhost:8080/"
        },
        "id": "yBJDzIzhtVsO",
        "outputId": "e4c0dc3e-6c0e-4fc1-96d2-3ff0ebb14349"
      },
      "execution_count": 11,
      "outputs": [
        {
          "output_type": "stream",
          "name": "stdout",
          "text": [
            "Hello Alif Restu\n"
          ]
        }
      ]
    },
    {
      "cell_type": "code",
      "source": [
        "#Nilai akhir Alif restu adalah:\n",
        "print(f\"Nilai akhir {mhs1.nama} adalah {mhs1.nilaiAkhir()}\")"
      ],
      "metadata": {
        "colab": {
          "base_uri": "https://localhost:8080/"
        },
        "id": "RfU4BozEvSnD",
        "outputId": "038a1e90-1cdc-4385-ccb7-99804a08301a"
      },
      "execution_count": 23,
      "outputs": [
        {
          "output_type": "stream",
          "name": "stdout",
          "text": [
            "Nilai akhir Alif Restu adalah 57.4\n"
          ]
        }
      ]
    },
    {
      "cell_type": "code",
      "source": [
        "#Nilai akhir Alif restu adalah:\n",
        "print(f\"Nilai akhir huruf {mhs1.nama} adalah {mhs1.nilaiHuruf()}\")"
      ],
      "metadata": {
        "colab": {
          "base_uri": "https://localhost:8080/"
        },
        "id": "e1pFKjwQwnHM",
        "outputId": "3d6aae49-2872-4ef3-ffe2-f3c407db1c62"
      },
      "execution_count": 25,
      "outputs": [
        {
          "output_type": "stream",
          "name": "stdout",
          "text": [
            "Nilai akhir huruf Alif Restu adalah D\n"
          ]
        }
      ]
    }
  ]
}